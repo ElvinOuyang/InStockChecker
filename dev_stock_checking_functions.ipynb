{
 "cells": [
  {
   "cell_type": "markdown",
   "metadata": {},
   "source": [
    "Dependencies of this solution:\n",
    "1. Chrome browser and chromedriver all installed\n",
    "2. Browser can be opened by selenium (otherwise website will block app)\n",
    "3. Gmail account turns on 2 step verification and genereated App Password"
   ]
  },
  {
   "cell_type": "code",
   "execution_count": 64,
   "metadata": {},
   "outputs": [],
   "source": [
    "from selenium import webdriver\n",
    "import smtplib\n",
    "import ssl\n",
    "import getpass\n",
    "import keyring\n",
    "from datetime import datetime\n",
    "import schedule\n",
    "import time"
   ]
  },
  {
   "cell_type": "code",
   "execution_count": 39,
   "metadata": {},
   "outputs": [],
   "source": [
    "url_dict = {'Nano Speedy': 'https://us.louisvuitton.com/eng-us/products/nano-speedy-monogram-010575',\n",
    "            'Neverfull PM': 'https://us.louisvuitton.com/eng-us/products/neverfull-pm-monogram-007654'}"
   ]
  },
  {
   "cell_type": "code",
   "execution_count": 59,
   "metadata": {},
   "outputs": [],
   "source": [
    "def check_stock(url_dict):\n",
    "    instock_dict = {}\n",
    "    for product_name, product_url in url_dict.items():\n",
    "        with webdriver.Chrome() as driver:\n",
    "            driver.get(product_url)\n",
    "            in_stock_info = driver.find_element_by_class_name('sellable').text\n",
    "            print(f\"{product_name.capitalize()} stock status at {datetime.now().strftime('%d-%b-%Y (%H:%M:%S)')}:\")\n",
    "            print(in_stock_info)\n",
    "            instock_dict[product_name] = in_stock_info\n",
    "    return instock_dict\n",
    "\n",
    "\n",
    "def obtain_email_credentials():\n",
    "    email_address = input(\">>> Enter your email address here: \")\n",
    "    email_pass = getpass.getpass(\">>> Enter your email password here: \")\n",
    "    keyring.set_password(\"email\", email_address, email_pass)\n",
    "    print(\">>> Password is Saved\")\n",
    "    return email_address\n",
    "\n",
    "\n",
    "def email_status(stock_status, product, product_url, sender_address, recipient_address):\n",
    "    \"\"\"\n",
    "    Sending self an email of product stock status\n",
    "    \"\"\"\n",
    "    GMAIL_USERNAME = sender_address\n",
    "    GMAIL_PASSWORD = keyring.get_password(\"email\", sender_address)\n",
    "    body_of_email = f\"[URL]: {product_url}. \\r\\n\\r\\n [Stock Status]: {stock_status}\"\n",
    "    email_subject = f'{product.capitalize()} Product Available Now!!!'\n",
    "    headers = \"\\r\\n\".join([f\"from: {GMAIL_USERNAME}\", \n",
    "                           f\"subject: {email_subject}\", \n",
    "                           f\"to: {recipient_address}\", \n",
    "                           \"mime-version: 1.0\", \n",
    "                           \"content-type: text/html\"])\n",
    "    content = f\"{headers}\\r\\n\\r\\n{body_of_email}\" \n",
    "    print(\">>> Email Composed...\")\n",
    "    # creates SMTP session\n",
    "    context = ssl.create_default_context()\n",
    "    with smtplib.SMTP_SSL(\n",
    "        'smtp.gmail.com', port=465, context=context) as server:\n",
    "        server.login(GMAIL_USERNAME, GMAIL_PASSWORD)\n",
    "        server.sendmail(sender_address, recipient_address, content)\n",
    "    print(\">>> Email Sent...\")\n",
    "\n",
    "\n",
    "def email_product_status(instock_dict, url_dict, sender_address, recipient_address):\n",
    "    for product_name, product_status in instock_dict.items():\n",
    "        if \"cart\" in product_status.lower():\n",
    "            print(f\">>> Product {product_name.capitalize()} is eligible to place in cart, sending email notice\")\n",
    "            email_status(product_status, product_name, url_dict[product_name],\n",
    "                         sender_address, recipient_address)\n",
    "        else:\n",
    "            print(f\">>> Product {product_name.capitalize()} is not eligible to purchase.\")"
   ]
  },
  {
   "cell_type": "code",
   "execution_count": 38,
   "metadata": {},
   "outputs": [
    {
     "name": "stdout",
     "output_type": "stream",
     "text": [
      ">>> Enter your email address here: elvin.ouyang@gmail.com\n",
      ">>> Enter your email password here: ········\n",
      ">>> Password is Saved\n"
     ]
    }
   ],
   "source": [
    "# test email login function\n",
    "email_address = obtain_email_credentials()"
   ]
  },
  {
   "cell_type": "code",
   "execution_count": 53,
   "metadata": {},
   "outputs": [
    {
     "name": "stdout",
     "output_type": "stream",
     "text": [
      "Nano Speedy stock status at 27-Sep-2020 (11:45:00):\n",
      "Item Unavailable, Check Back Soon.\n",
      "Neverfull PM stock status at 27-Sep-2020 (11:45:05):\n",
      "Notify Me\n"
     ]
    },
    {
     "data": {
      "text/plain": [
       "{'Nano Speedy': 'Item Unavailable, Check Back Soon.',\n",
       " 'Neverfull PM': 'Notify Me'}"
      ]
     },
     "execution_count": 53,
     "metadata": {},
     "output_type": "execute_result"
    }
   ],
   "source": [
    "# test stock checking function\n",
    "check_stock(url_dict)"
   ]
  },
  {
   "cell_type": "code",
   "execution_count": 58,
   "metadata": {},
   "outputs": [
    {
     "name": "stdout",
     "output_type": "stream",
     "text": [
      ">>> Email Composed...\n",
      ">>> Email Sent...\n"
     ]
    }
   ],
   "source": [
    "# test email\n",
    "email_status('Test', 'Test Product', 'www.testurl.com', 'elvin.ouyang@gmail.com', 'elvin.ouyang@gmail.com')"
   ]
  },
  {
   "cell_type": "code",
   "execution_count": 60,
   "metadata": {},
   "outputs": [
    {
     "name": "stdout",
     "output_type": "stream",
     "text": [
      ">>> Product Nano Speedy is not eligible to purchase.\n",
      ">>> Product Neverfull PM is not eligible to purchase.\n"
     ]
    }
   ],
   "source": [
    "instock_dict = {'Nano Speedy': 'Item Unavailable, Check Back Soon.',\n",
    "                'Neverfull PM': 'Notify Me'}\n",
    "email_product_status(instock_dict, url_dict, 'elvin.ouyang@gmail.com', 'elvin.ouyang@gmail.com')"
   ]
  }
 ],
 "metadata": {
  "kernelspec": {
   "display_name": "Python 3",
   "language": "python",
   "name": "python3"
  },
  "language_info": {
   "codemirror_mode": {
    "name": "ipython",
    "version": 3
   },
   "file_extension": ".py",
   "mimetype": "text/x-python",
   "name": "python",
   "nbconvert_exporter": "python",
   "pygments_lexer": "ipython3",
   "version": "3.6.9"
  }
 },
 "nbformat": 4,
 "nbformat_minor": 4
}